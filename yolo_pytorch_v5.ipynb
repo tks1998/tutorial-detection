{
  "nbformat": 4,
  "nbformat_minor": 0,
  "metadata": {
    "colab": {
      "name": "local-yolo5.ipynb",
      "provenance": [],
      "collapsed_sections": [],
      "toc_visible": true
    },
    "kernelspec": {
      "name": "python3",
      "display_name": "Python 3"
    },
    "accelerator": "GPU"
  },
  "cells": [
    {
      "cell_type": "code",
      "metadata": {
        "id": "PXywR542PEXr",
        "colab_type": "code",
        "colab": {
          "base_uri": "https://localhost:8080/",
          "height": 34
        },
        "outputId": "31e3912a-b73e-47ed-9924-edd13cd1d150"
      },
      "source": [
        "from google.colab import drive\n",
        "drive.mount('/content/drive')"
      ],
      "execution_count": null,
      "outputs": [
        {
          "output_type": "stream",
          "text": [
            "Drive already mounted at /content/drive; to attempt to forcibly remount, call drive.mount(\"/content/drive\", force_remount=True).\n"
          ],
          "name": "stdout"
        }
      ]
    },
    {
      "cell_type": "markdown",
      "metadata": {
        "id": "wFvtloi8sXE-",
        "colab_type": "text"
      },
      "source": [
        "# Set up environment"
      ]
    },
    {
      "cell_type": "code",
      "metadata": {
        "id": "L0B9NUpXPTNC",
        "colab_type": "code",
        "colab": {}
      },
      "source": [
        "import torch\n",
        "from IPython.display import Image, clear_output  # to display images\n",
        "import shutil\n",
        "import os\n",
        "import pandas as pd\n",
        "import numpy as np\n",
        "from PIL import Image\n",
        "import math\n",
        "import cv2\n",
        "from collections import deque\n",
        "from google.colab.patches import cv2_imshow"
      ],
      "execution_count": 1,
      "outputs": []
    },
    {
      "cell_type": "markdown",
      "metadata": {
        "id": "VGb7kywa1ggW",
        "colab_type": "text"
      },
      "source": [
        "Clone repo, install dependencies, %cd into ./yolov5 folder and check GPU."
      ]
    },
    {
      "cell_type": "code",
      "metadata": {
        "id": "CRUwwW47sh52",
        "colab_type": "code",
        "colab": {}
      },
      "source": [
        "!git clone https://github.com/ultralytics/yolov5 "
      ],
      "execution_count": null,
      "outputs": []
    },
    {
      "cell_type": "code",
      "metadata": {
        "id": "L28wSwCGsjda",
        "colab_type": "code",
        "colab": {
          "base_uri": "https://localhost:8080/",
          "height": 34
        },
        "outputId": "36568ba9-8d93-448f-d17d-12bb96a4c99a"
      },
      "source": [
        "cd /content/drive/My Drive/yolo5-localization/yolov5"
      ],
      "execution_count": 4,
      "outputs": [
        {
          "output_type": "stream",
          "text": [
            "/content/drive/My Drive/yolo5-localization/yolov5\n"
          ],
          "name": "stdout"
        }
      ]
    },
    {
      "cell_type": "code",
      "metadata": {
        "id": "XDIcUWWSuvn3",
        "colab_type": "code",
        "colab": {
          "base_uri": "https://localhost:8080/",
          "height": 34
        },
        "outputId": "4ea62ef2-7b6f-4add-d1db-cb145c38cab7"
      },
      "source": [
        "!pip install -r requirements.txt  # install dependencies\n",
        "clear_output()\n",
        "print('Setup complete. Using torch %s %s' % (torch.__version__, torch.cuda.get_device_properties(0) if torch.cuda.is_available() else 'CPU'))"
      ],
      "execution_count": 5,
      "outputs": [
        {
          "output_type": "stream",
          "text": [
            "Setup complete. Using torch 1.5.1+cu101 _CudaDeviceProperties(name='Tesla K80', major=3, minor=7, total_memory=11441MB, multi_processor_count=13)\n"
          ],
          "name": "stdout"
        }
      ]
    },
    {
      "cell_type": "markdown",
      "metadata": {
        "id": "M9waUDDlPQmo",
        "colab_type": "text"
      },
      "source": [
        "# Prepare data"
      ]
    },
    {
      "cell_type": "markdown",
      "metadata": {
        "id": "49TT-4rDu0Cm",
        "colab_type": "text"
      },
      "source": [
        "The directory of the dataset include:\n",
        "\n",
        "    data/\n",
        "        images/\n",
        "              train/\n",
        "              valid/\n",
        "        labels/\n",
        "              train/\n",
        "              valid/\n",
        "\n",
        "data/image/train: Including entire images train \n",
        "\n",
        "data/image/valid: Including entire images valid \n",
        "\n",
        "data/labels/train: Include the entire label corresponding to the name of the image in the folder image/train\n",
        "\n",
        "data/labels/valid: Include the entire label corresponding to the name of the image in the folder image/valid\n",
        "\n",
        "For each file label include 5 parameter: \"label center_x center_y w h\"\n",
        "\n",
        "In the final set, I adjusted the parameter in my_setting.yaml. It includes some parameter:\n",
        "  train: the path of the train set\n",
        "  test: the path of the test set\n",
        "  nc : number class\n",
        "  names: an array consisting of the name of the class corresponding to the class id.  \n",
        "  "
      ]
    },
    {
      "cell_type": "markdown",
      "metadata": {
        "id": "7QBJ9CSkCIdW",
        "colab_type": "text"
      },
      "source": [
        "# Setting Config \n",
        "\n",
        "In my tutorial, I use yolov5s so that, I config yolov5s.yaml, And I only change \"nc\"m which is number class in my dataset.\n",
        "\n",
        "Change some parameter in the folder data/my_setting:\n",
        "\n",
        "    valid: The directory of images/valid\n",
        "    train: The directory of images/train\n",
        "    nc : Number class of dataset.\n",
        "\n"
      ]
    },
    {
      "cell_type": "markdown",
      "metadata": {
        "id": "ImE0O5Zefe0a",
        "colab_type": "text"
      },
      "source": [
        "\n",
        "# Train"
      ]
    },
    {
      "cell_type": "markdown",
      "metadata": {
        "id": "ixvll0sJ2lh0",
        "colab_type": "text"
      },
      "source": [
        "This repository uses PyTorch framework, and the train.py is the main program, which controls all parameter ( focal loss,weight_decay, momentum, weight_decay, learning rate, ...) and preprocessing (resize size, shear, scale, anchor...)  of the algorithm."
      ]
    },
    {
      "cell_type": "markdown",
      "metadata": {
        "id": "T2NrRAyY3rxv",
        "colab_type": "text"
      },
      "source": [
        "And Now, I runing program with train.py and set some parameter example: \n",
        "\n",
        "    --img : resize image to 640x640\n",
        "    --batch: batch-size 16\n",
        "    --epochs: 200\n",
        "    --data: path of the setting file.\n",
        "    --models: choose models, yolov5 have some model such as yolov5s ( pretrain with small dataset ) , yolov5l (yolov5 pretrain with large dataset)...\n",
        "    --weight: link weigth for training. The first train model, you might set ''. After that, You can use push link pretrain model"
      ]
    },
    {
      "cell_type": "code",
      "metadata": {
        "id": "9r7g3zvGfWB-",
        "colab_type": "code",
        "colab": {
          "base_uri": "https://localhost:8080/",
          "height": 1000
        },
        "outputId": "1b930f37-aeae-4c45-a866-2894c53bec66"
      },
      "source": [
        "!python train.py --img 640 --batch 16 --epochs 30 --data data/my_setting.yaml --cfg models/yolov5s_sen.yaml --weights '' --name  CASHEW"
      ],
      "execution_count": null,
      "outputs": [
        {
          "output_type": "stream",
          "text": [
            "Apex recommended for faster mixed precision training: https://github.com/NVIDIA/apex\n",
            "{'lr0': 0.01, 'momentum': 0.937, 'weight_decay': 0.0005, 'giou': 0.05, 'cls': 0.58, 'cls_pw': 1.0, 'obj': 1.0, 'obj_pw': 1.0, 'iou_t': 0.2, 'anchor_t': 4.0, 'fl_gamma': 0.0, 'hsv_h': 0.014, 'hsv_s': 0.68, 'hsv_v': 0.36, 'degrees': 0.0, 'translate': 0.0, 'scale': 0.5, 'shear': 0.0}\n",
            "remote: Enumerating objects: 5, done.\u001b[K\n",
            "remote: Counting objects: 100% (5/5), done.\u001b[K\n",
            "remote: Total 8 (delta 5), reused 5 (delta 5), pack-reused 3\u001b[K\n",
            "Unpacking objects: 100% (8/8), done.\n",
            "From https://github.com/ultralytics/yolov5\n",
            "   f796708..a040500  master     -> origin/master\n",
            "Your branch is behind 'origin/master' by 205 commits, and can be fast-forwarded.\n",
            "  (use \"git pull\" to update your local branch)\n",
            "\n",
            "Namespace(adam=False, batch_size=16, bucket='', cache_images=False, cfg='models/yolov5s_sen.yaml', data='data/my_setting.yaml', device='', epochs=30, evolve=False, img_size=[640], multi_scale=False, name='CASHEW', noautoanchor=False, nosave=False, notest=False, rect=False, resume=False, single_cls=False, weights='')\n",
            "Using CUDA device0 _CudaDeviceProperties(name='Tesla K80', total_memory=11441MB)\n",
            "\n",
            "2020-07-15 10:51:17.879809: I tensorflow/stream_executor/platform/default/dso_loader.cc:44] Successfully opened dynamic library libcudart.so.10.1\n",
            "Start Tensorboard with \"tensorboard --logdir=runs\", view at http://localhost:6006/\n",
            "\n",
            "              from  n    params  module                                  arguments                     \n",
            "  0             -1  1      3520  models.common.Focus                     [3, 32, 3]                    \n",
            "  1             -1  1     18560  models.common.Conv                      [32, 64, 3, 2]                \n",
            "  2             -1  1     19904  models.common.BottleneckCSP             [64, 64, 1]                   \n",
            "  3             -1  1     73984  models.common.Conv                      [64, 128, 3, 2]               \n",
            "  4             -1  1    161152  models.common.BottleneckCSP             [128, 128, 3]                 \n",
            "  5             -1  1    295424  models.common.Conv                      [128, 256, 3, 2]              \n",
            "  6             -1  1    641792  models.common.BottleneckCSP             [256, 256, 3]                 \n",
            "  7             -1  1   1180672  models.common.Conv                      [256, 512, 3, 2]              \n",
            "  8             -1  1    656896  models.common.SPP                       [512, 512, [5, 9, 13]]        \n",
            "  9             -1  1   1248768  models.common.BottleneckCSP             [512, 512, 1, False]          \n",
            " 10             -1  1    131584  models.common.Conv                      [512, 256, 1, 1]              \n",
            " 11             -1  1         0  torch.nn.modules.upsampling.Upsample    [None, 2, 'nearest']          \n",
            " 12        [-1, 6]  1         0  models.common.Concat                    [1]                           \n",
            " 13             -1  1    378624  models.common.BottleneckCSP             [512, 256, 1, False]          \n",
            " 14             -1  1     33024  models.common.Conv                      [256, 128, 1, 1]              \n",
            " 15             -1  1         0  torch.nn.modules.upsampling.Upsample    [None, 2, 'nearest']          \n",
            " 16        [-1, 4]  1         0  models.common.Concat                    [1]                           \n",
            " 17             -1  1     95104  models.common.BottleneckCSP             [256, 128, 1, False]          \n",
            " 18             -1  1      2322  torch.nn.modules.conv.Conv2d            [128, 18, 1, 1]               \n",
            " 19             -2  1    147712  models.common.Conv                      [128, 128, 3, 2]              \n",
            " 20       [-1, 14]  1         0  models.common.Concat                    [1]                           \n",
            " 21             -1  1    313088  models.common.BottleneckCSP             [256, 256, 1, False]          \n",
            " 22             -1  1      4626  torch.nn.modules.conv.Conv2d            [256, 18, 1, 1]               \n",
            " 23             -2  1    590336  models.common.Conv                      [256, 256, 3, 2]              \n",
            " 24       [-1, 10]  1         0  models.common.Concat                    [1]                           \n",
            " 25             -1  1   1248768  models.common.BottleneckCSP             [512, 512, 1, False]          \n",
            " 26             -1  1      9234  torch.nn.modules.conv.Conv2d            [512, 18, 1, 1]               \n",
            " 27   [-1, 22, 18]  1         0  models.yolo.Detect                      [1, [[116, 90, 156, 198, 373, 326], [30, 61, 62, 45, 59, 119], [10, 13, 16, 30, 33, 23]]]\n",
            "Model Summary: 191 layers, 7.25509e+06 parameters, 7.25509e+06 gradients\n",
            "\n",
            "Optimizer groups: 62 .bias, 70 conv.weight, 59 other\n",
            "Reading image shapes: 100% 62/62 [00:30<00:00,  2.01it/s]\n",
            "Caching labels cashew_new/labels/train (62 found, 0 missing, 0 empty, 0 duplicate, for 62 images): 100% 62/62 [00:37<00:00,  1.64it/s]\n",
            "Reading image shapes: 100% 10/10 [00:04<00:00,  2.06it/s]\n",
            "Caching labels cashew_new/labels/valid (10 found, 0 missing, 0 empty, 0 duplicate, for 10 images): 100% 10/10 [00:07<00:00,  1.42it/s]\n",
            "\n",
            "Analyzing anchors... Best Possible Recall (BPR) = 1.0000\n",
            "Image sizes 640 train, 640 test\n",
            "Using 2 dataloader workers\n",
            "Starting training for 30 epochs...\n",
            "\n",
            "     Epoch   gpu_mem      GIoU       obj       cls     total   targets  img_size\n",
            "      0/29     2.95G    0.1281    0.1178         0    0.2458       268       640: 100% 4/4 [00:52<00:00, 13.14s/it]\n",
            "               Class      Images     Targets           P           R      mAP@.5  mAP@.5:.95: 100% 1/1 [00:12<00:00, 12.06s/it]\n",
            "                 all          10         180           0           0           0           0\n",
            "\n",
            "     Epoch   gpu_mem      GIoU       obj       cls     total   targets  img_size\n",
            "      1/29     4.52G    0.1261    0.1179         0     0.244       242       640: 100% 4/4 [00:30<00:00,  7.63s/it]\n",
            "               Class      Images     Targets           P           R      mAP@.5  mAP@.5:.95: 100% 1/1 [00:03<00:00,  3.54s/it]\n",
            "                 all          10         180           0           0           0           0\n",
            "\n",
            "     Epoch   gpu_mem      GIoU       obj       cls     total   targets  img_size\n",
            "      2/29     4.52G    0.1234    0.1186         0     0.242       227       640: 100% 4/4 [00:31<00:00,  7.76s/it]\n",
            "               Class      Images     Targets           P           R      mAP@.5  mAP@.5:.95: 100% 1/1 [00:03<00:00,  3.40s/it]\n",
            "                 all          10         180           0           0           0           0\n",
            "\n",
            "     Epoch   gpu_mem      GIoU       obj       cls     total   targets  img_size\n",
            "      3/29     4.52G    0.1196    0.1125         0     0.232       235       640: 100% 4/4 [00:30<00:00,  7.65s/it]\n",
            "               Class      Images     Targets           P           R      mAP@.5  mAP@.5:.95: 100% 1/1 [00:03<00:00,  3.43s/it]\n",
            "                 all          10         180           0           0           0           0\n",
            "\n",
            "     Epoch   gpu_mem      GIoU       obj       cls     total   targets  img_size\n",
            "      4/29     4.52G    0.1129    0.1229         0    0.2358       233       640: 100% 4/4 [00:30<00:00,  7.74s/it]\n",
            "               Class      Images     Targets           P           R      mAP@.5  mAP@.5:.95: 100% 1/1 [00:03<00:00,  3.42s/it]\n",
            "                 all          10         180           0           0           0           0\n",
            "\n",
            "     Epoch   gpu_mem      GIoU       obj       cls     total   targets  img_size\n",
            "      5/29     4.52G    0.1078    0.1269         0    0.2347       242       640: 100% 4/4 [00:31<00:00,  7.76s/it]\n",
            "               Class      Images     Targets           P           R      mAP@.5  mAP@.5:.95: 100% 1/1 [00:03<00:00,  3.43s/it]\n",
            "                 all          10         180           0           0           0           0\n",
            "\n",
            "     Epoch   gpu_mem      GIoU       obj       cls     total   targets  img_size\n",
            "      6/29     4.52G     0.108    0.1411         0    0.2491       285       640: 100% 4/4 [00:30<00:00,  7.75s/it]\n",
            "               Class      Images     Targets           P           R      mAP@.5  mAP@.5:.95: 100% 1/1 [00:03<00:00,  3.70s/it]\n",
            "                 all          10         180           0           0           0           0\n",
            "\n",
            "     Epoch   gpu_mem      GIoU       obj       cls     total   targets  img_size\n",
            "      7/29     4.52G    0.1057     0.131         0    0.2366       223       640: 100% 4/4 [00:31<00:00,  7.94s/it]\n",
            "               Class      Images     Targets           P           R      mAP@.5  mAP@.5:.95: 100% 1/1 [00:03<00:00,  3.43s/it]\n",
            "                 all          10         180           0           0           0           0\n",
            "\n",
            "     Epoch   gpu_mem      GIoU       obj       cls     total   targets  img_size\n",
            "      8/29     4.52G     0.103    0.1377         0    0.2407       210       640: 100% 4/4 [00:31<00:00,  7.86s/it]\n",
            "               Class      Images     Targets           P           R      mAP@.5  mAP@.5:.95: 100% 1/1 [00:03<00:00,  3.46s/it]\n",
            "                 all          10         180           0           0           0           0\n",
            "\n",
            "     Epoch   gpu_mem      GIoU       obj       cls     total   targets  img_size\n",
            "      9/29     4.52G    0.1049    0.1333         0    0.2382       262       640: 100% 4/4 [00:31<00:00,  7.79s/it]\n",
            "               Class      Images     Targets           P           R      mAP@.5  mAP@.5:.95: 100% 1/1 [00:03<00:00,  3.33s/it]\n",
            "                 all          10         180           0           0           0           0\n",
            "\n",
            "     Epoch   gpu_mem      GIoU       obj       cls     total   targets  img_size\n",
            "     10/29     4.52G    0.1034    0.1287         0     0.232       237       640: 100% 4/4 [00:30<00:00,  7.58s/it]\n",
            "               Class      Images     Targets           P           R      mAP@.5  mAP@.5:.95: 100% 1/1 [00:03<00:00,  3.35s/it]\n",
            "                 all          10         180           0           0    0.000241    2.41e-05\n",
            "\n",
            "     Epoch   gpu_mem      GIoU       obj       cls     total   targets  img_size\n",
            "     11/29     4.52G    0.1005    0.1302         0    0.2307       220       640: 100% 4/4 [00:30<00:00,  7.65s/it]\n",
            "               Class      Images     Targets           P           R      mAP@.5  mAP@.5:.95: 100% 1/1 [00:03<00:00,  3.32s/it]\n",
            "                 all          10         180           0           0     0.00237    0.000239\n",
            "\n",
            "     Epoch   gpu_mem      GIoU       obj       cls     total   targets  img_size\n",
            "     12/29     4.52G    0.1071    0.1271         0    0.2342       291       640: 100% 4/4 [00:30<00:00,  7.65s/it]\n",
            "               Class      Images     Targets           P           R      mAP@.5  mAP@.5:.95: 100% 1/1 [00:03<00:00,  3.35s/it]\n",
            "                 all          10         180           0           0     0.00847    0.000865\n",
            "\n",
            "     Epoch   gpu_mem      GIoU       obj       cls     total   targets  img_size\n",
            "     13/29     4.52G    0.1004    0.1243         0    0.2247       194       640: 100% 4/4 [00:30<00:00,  7.64s/it]\n",
            "               Class      Images     Targets           P           R      mAP@.5  mAP@.5:.95: 100% 1/1 [00:03<00:00,  3.31s/it]\n",
            "                 all          10         180           0           0      0.0145     0.00152\n",
            "\n",
            "     Epoch   gpu_mem      GIoU       obj       cls     total   targets  img_size\n",
            "     14/29     4.52G   0.09753     0.132         0    0.2296       227       640: 100% 4/4 [00:30<00:00,  7.54s/it]\n",
            "               Class      Images     Targets           P           R      mAP@.5  mAP@.5:.95: 100% 1/1 [00:03<00:00,  3.43s/it]\n",
            "                 all          10         180           0           0      0.0195     0.00208\n",
            "\n",
            "     Epoch   gpu_mem      GIoU       obj       cls     total   targets  img_size\n",
            "     15/29     4.52G    0.1004    0.1215         0    0.2219       205       640: 100% 4/4 [00:29<00:00,  7.47s/it]\n",
            "               Class      Images     Targets           P           R      mAP@.5  mAP@.5:.95: 100% 1/1 [00:03<00:00,  3.30s/it]\n",
            "                 all          10         180           0           0      0.0264     0.00297\n",
            "\n",
            "     Epoch   gpu_mem      GIoU       obj       cls     total   targets  img_size\n",
            "     16/29     4.52G    0.1016    0.1231         0    0.2247       320       640: 100% 4/4 [00:29<00:00,  7.40s/it]\n",
            "               Class      Images     Targets           P           R      mAP@.5  mAP@.5:.95: 100% 1/1 [00:03<00:00,  3.25s/it]\n",
            "                 all          10         180           0           0      0.0426     0.00533\n",
            "\n",
            "     Epoch   gpu_mem      GIoU       obj       cls     total   targets  img_size\n",
            "     17/29     4.52G    0.1004    0.1323         0    0.2328       287       640: 100% 4/4 [00:30<00:00,  7.72s/it]\n",
            "               Class      Images     Targets           P           R      mAP@.5  mAP@.5:.95: 100% 1/1 [00:03<00:00,  3.46s/it]\n",
            "                 all          10         180           0           0       0.048     0.00606\n",
            "\n",
            "     Epoch   gpu_mem      GIoU       obj       cls     total   targets  img_size\n",
            "     18/29     4.52G    0.1003    0.1232         0    0.2234       206       640: 100% 4/4 [00:30<00:00,  7.64s/it]\n",
            "               Class      Images     Targets           P           R      mAP@.5  mAP@.5:.95: 100% 1/1 [00:03<00:00,  3.32s/it]\n",
            "                 all          10         180           0           0      0.0568     0.00761\n",
            "\n",
            "     Epoch   gpu_mem      GIoU       obj       cls     total   targets  img_size\n",
            "     19/29     4.52G   0.09891    0.1228         0    0.2217       260       640: 100% 4/4 [00:30<00:00,  7.57s/it]\n",
            "               Class      Images     Targets           P           R      mAP@.5  mAP@.5:.95: 100% 1/1 [00:03<00:00,  3.48s/it]\n",
            "                 all          10         180           0           0      0.0522     0.00746\n",
            "\n",
            "     Epoch   gpu_mem      GIoU       obj       cls     total   targets  img_size\n",
            "     20/29     4.52G   0.09904    0.1274         0    0.2264       201       640: 100% 4/4 [00:30<00:00,  7.56s/it]\n",
            "               Class      Images     Targets           P           R      mAP@.5  mAP@.5:.95: 100% 1/1 [00:03<00:00,  3.28s/it]\n",
            "                 all          10         180           0           0       0.034     0.00503\n",
            "\n",
            "     Epoch   gpu_mem      GIoU       obj       cls     total   targets  img_size\n",
            "     21/29     4.52G   0.09878    0.1204         0    0.2192       303       640: 100% 4/4 [00:30<00:00,  7.63s/it]\n",
            "               Class      Images     Targets           P           R      mAP@.5  mAP@.5:.95: 100% 1/1 [00:03<00:00,  3.37s/it]\n",
            "                 all          10         180           0           0      0.0415     0.00728\n",
            "\n",
            "     Epoch   gpu_mem      GIoU       obj       cls     total   targets  img_size\n",
            "     22/29     4.52G    0.0992    0.1209         0    0.2201       313       640: 100% 4/4 [00:30<00:00,  7.56s/it]\n",
            "               Class      Images     Targets           P           R      mAP@.5  mAP@.5:.95: 100% 1/1 [00:03<00:00,  3.42s/it]\n",
            "                 all          10         180           0           0      0.0729      0.0145\n",
            "\n",
            "     Epoch   gpu_mem      GIoU       obj       cls     total   targets  img_size\n",
            "     23/29     4.52G    0.0988    0.1187         0    0.2175       233       640: 100% 4/4 [00:30<00:00,  7.62s/it]\n",
            "               Class      Images     Targets           P           R      mAP@.5  mAP@.5:.95: 100% 1/1 [00:03<00:00,  3.48s/it]\n",
            "                 all          10         180           0           0      0.0829      0.0164\n",
            "\n",
            "     Epoch   gpu_mem      GIoU       obj       cls     total   targets  img_size\n",
            "     24/29     4.52G   0.09679    0.1228         0    0.2196       283       640: 100% 4/4 [00:30<00:00,  7.61s/it]\n",
            "               Class      Images     Targets           P           R      mAP@.5  mAP@.5:.95: 100% 1/1 [00:03<00:00,  3.44s/it]\n",
            "                 all          10         180           0           0      0.0537      0.0107\n",
            "\n",
            "     Epoch   gpu_mem      GIoU       obj       cls     total   targets  img_size\n",
            "     25/29     4.52G   0.09839    0.1136         0     0.212       270       640: 100% 4/4 [00:30<00:00,  7.61s/it]\n",
            "               Class      Images     Targets           P           R      mAP@.5  mAP@.5:.95: 100% 1/1 [00:03<00:00,  3.58s/it]\n",
            "                 all          10         180           0           0      0.0915      0.0189\n",
            "\n",
            "     Epoch   gpu_mem      GIoU       obj       cls     total   targets  img_size\n",
            "     26/29     4.52G   0.09764    0.1272         0    0.2248       278       640: 100% 4/4 [00:30<00:00,  7.71s/it]\n",
            "               Class      Images     Targets           P           R      mAP@.5  mAP@.5:.95: 100% 1/1 [00:03<00:00,  3.49s/it]\n",
            "                 all          10         180           0           0       0.157      0.0298\n",
            "\n",
            "     Epoch   gpu_mem      GIoU       obj       cls     total   targets  img_size\n",
            "     27/29     4.52G   0.09654    0.1289         0    0.2255       263       640: 100% 4/4 [00:31<00:00,  7.76s/it]\n",
            "               Class      Images     Targets           P           R      mAP@.5  mAP@.5:.95: 100% 1/1 [00:03<00:00,  3.58s/it]\n",
            "                 all          10         180           0           0       0.182      0.0382\n",
            "\n",
            "     Epoch   gpu_mem      GIoU       obj       cls     total   targets  img_size\n",
            "     28/29     4.52G   0.09604    0.1174         0    0.2134       238       640: 100% 4/4 [00:31<00:00,  7.76s/it]\n",
            "               Class      Images     Targets           P           R      mAP@.5  mAP@.5:.95: 100% 1/1 [00:03<00:00,  3.45s/it]\n",
            "                 all          10         180           1     0.00556       0.211      0.0407\n",
            "\n",
            "     Epoch   gpu_mem      GIoU       obj       cls     total   targets  img_size\n",
            "     29/29     4.52G   0.09576    0.1147         0    0.2104       273       640: 100% 4/4 [00:31<00:00,  7.98s/it]\n",
            "               Class      Images     Targets           P           R      mAP@.5  mAP@.5:.95: 100% 1/1 [00:03<00:00,  3.64s/it]\n",
            "                 all          10         180           1     0.00556       0.185      0.0349\n",
            "Optimizer stripped from weights/last_CASHEW.pt\n",
            "Optimizer stripped from weights/best_CASHEW.pt\n",
            "30 epochs completed in 0.302 hours.\n",
            "\n"
          ],
          "name": "stdout"
        }
      ]
    },
    {
      "cell_type": "markdown",
      "metadata": {
        "id": "xNE3u23eLUle",
        "colab_type": "text"
      },
      "source": [
        "If you want to continue training, change the weight parameter --weights. In my notebook, I set --weights = weights/last_CASHEW.pt, which I training previous step."
      ]
    },
    {
      "cell_type": "code",
      "metadata": {
        "id": "jnjVDDcMN6R9",
        "colab_type": "code",
        "colab": {
          "base_uri": "https://localhost:8080/",
          "height": 1000
        },
        "outputId": "878adec0-834e-4e5e-e7de-48041f2a6fb5"
      },
      "source": [
        "!python train.py --img 640 --batch 16 --epochs 50 --data data/my_setting.yaml --cfg models/yolov5s_sen.yaml --weights weights/last_CASHEW.pt --name  CASHEW"
      ],
      "execution_count": null,
      "outputs": [
        {
          "output_type": "stream",
          "text": [
            "Apex recommended for faster mixed precision training: https://github.com/NVIDIA/apex\n",
            "{'lr0': 0.01, 'momentum': 0.937, 'weight_decay': 0.0005, 'giou': 0.05, 'cls': 0.58, 'cls_pw': 1.0, 'obj': 1.0, 'obj_pw': 1.0, 'iou_t': 0.2, 'anchor_t': 4.0, 'fl_gamma': 0.0, 'hsv_h': 0.014, 'hsv_s': 0.68, 'hsv_v': 0.36, 'degrees': 0.0, 'translate': 0.0, 'scale': 0.5, 'shear': 0.0}\n",
            "Your branch is behind 'origin/master' by 205 commits, and can be fast-forwarded.\n",
            "  (use \"git pull\" to update your local branch)\n",
            "\n",
            "Namespace(adam=False, batch_size=16, bucket='', cache_images=False, cfg='models/yolov5s_sen.yaml', data='data/my_setting.yaml', device='', epochs=50, evolve=False, img_size=[640], multi_scale=False, name='CASHEW', noautoanchor=False, nosave=False, notest=False, rect=False, resume=False, single_cls=False, weights='weights/last_CASHEW.pt')\n",
            "Using CUDA device0 _CudaDeviceProperties(name='Tesla K80', total_memory=11441MB)\n",
            "\n",
            "2020-07-15 11:41:16.744394: I tensorflow/stream_executor/platform/default/dso_loader.cc:44] Successfully opened dynamic library libcudart.so.10.1\n",
            "Start Tensorboard with \"tensorboard --logdir=runs\", view at http://localhost:6006/\n",
            "\n",
            "              from  n    params  module                                  arguments                     \n",
            "  0             -1  1      3520  models.common.Focus                     [3, 32, 3]                    \n",
            "  1             -1  1     18560  models.common.Conv                      [32, 64, 3, 2]                \n",
            "  2             -1  1     19904  models.common.BottleneckCSP             [64, 64, 1]                   \n",
            "  3             -1  1     73984  models.common.Conv                      [64, 128, 3, 2]               \n",
            "  4             -1  1    161152  models.common.BottleneckCSP             [128, 128, 3]                 \n",
            "  5             -1  1    295424  models.common.Conv                      [128, 256, 3, 2]              \n",
            "  6             -1  1    641792  models.common.BottleneckCSP             [256, 256, 3]                 \n",
            "  7             -1  1   1180672  models.common.Conv                      [256, 512, 3, 2]              \n",
            "  8             -1  1    656896  models.common.SPP                       [512, 512, [5, 9, 13]]        \n",
            "  9             -1  1   1248768  models.common.BottleneckCSP             [512, 512, 1, False]          \n",
            " 10             -1  1    131584  models.common.Conv                      [512, 256, 1, 1]              \n",
            " 11             -1  1         0  torch.nn.modules.upsampling.Upsample    [None, 2, 'nearest']          \n",
            " 12        [-1, 6]  1         0  models.common.Concat                    [1]                           \n",
            " 13             -1  1    378624  models.common.BottleneckCSP             [512, 256, 1, False]          \n",
            " 14             -1  1     33024  models.common.Conv                      [256, 128, 1, 1]              \n",
            " 15             -1  1         0  torch.nn.modules.upsampling.Upsample    [None, 2, 'nearest']          \n",
            " 16        [-1, 4]  1         0  models.common.Concat                    [1]                           \n",
            " 17             -1  1     95104  models.common.BottleneckCSP             [256, 128, 1, False]          \n",
            " 18             -1  1      2322  torch.nn.modules.conv.Conv2d            [128, 18, 1, 1]               \n",
            " 19             -2  1    147712  models.common.Conv                      [128, 128, 3, 2]              \n",
            " 20       [-1, 14]  1         0  models.common.Concat                    [1]                           \n",
            " 21             -1  1    313088  models.common.BottleneckCSP             [256, 256, 1, False]          \n",
            " 22             -1  1      4626  torch.nn.modules.conv.Conv2d            [256, 18, 1, 1]               \n",
            " 23             -2  1    590336  models.common.Conv                      [256, 256, 3, 2]              \n",
            " 24       [-1, 10]  1         0  models.common.Concat                    [1]                           \n",
            " 25             -1  1   1248768  models.common.BottleneckCSP             [512, 512, 1, False]          \n",
            " 26             -1  1      9234  torch.nn.modules.conv.Conv2d            [512, 18, 1, 1]               \n",
            " 27   [-1, 22, 18]  1         0  models.yolo.Detect                      [1, [[116, 90, 156, 198, 373, 326], [30, 61, 62, 45, 59, 119], [10, 13, 16, 30, 33, 23]]]\n",
            "Model Summary: 191 layers, 7.25509e+06 parameters, 7.25509e+06 gradients\n",
            "\n",
            "Optimizer groups: 62 .bias, 70 conv.weight, 59 other\n",
            "Caching labels cashew_new/labels/train (62 found, 0 missing, 0 empty, 0 duplicate, for 62 images): 100% 62/62 [00:00<00:00, 629.19it/s]\n",
            "Caching labels cashew_new/labels/valid (10 found, 0 missing, 0 empty, 0 duplicate, for 10 images): 100% 10/10 [00:00<00:00, 639.77it/s]\n",
            "\n",
            "Analyzing anchors... Best Possible Recall (BPR) = 1.0000\n",
            "Image sizes 640 train, 640 test\n",
            "Using 2 dataloader workers\n",
            "Starting training for 50 epochs...\n",
            "\n",
            "     Epoch   gpu_mem      GIoU       obj       cls     total   targets  img_size\n",
            "     30/49     2.95G   0.09548    0.1238         0    0.2192       268       640: 100% 4/4 [00:52<00:00, 13.07s/it]\n",
            "               Class      Images     Targets           P           R      mAP@.5  mAP@.5:.95: 100% 1/1 [00:15<00:00, 15.08s/it]\n",
            "                 all          10         180           0           0       0.195       0.039\n",
            "\n",
            "     Epoch   gpu_mem      GIoU       obj       cls     total   targets  img_size\n",
            "     31/49     4.52G    0.0973    0.1194         0    0.2167       242       640: 100% 4/4 [00:30<00:00,  7.53s/it]\n",
            "               Class      Images     Targets           P           R      mAP@.5  mAP@.5:.95: 100% 1/1 [00:03<00:00,  3.73s/it]\n",
            "                 all          10         180           1     0.00556       0.178       0.034\n",
            "\n",
            "     Epoch   gpu_mem      GIoU       obj       cls     total   targets  img_size\n",
            "     32/49     4.52G   0.09577    0.1174         0    0.2132       227       640: 100% 4/4 [00:30<00:00,  7.55s/it]\n",
            "               Class      Images     Targets           P           R      mAP@.5  mAP@.5:.95: 100% 1/1 [00:03<00:00,  3.60s/it]\n",
            "                 all          10         180           1     0.00556       0.236       0.045\n",
            "\n",
            "     Epoch   gpu_mem      GIoU       obj       cls     total   targets  img_size\n",
            "     33/49     4.52G   0.09526    0.1069         0    0.2021       235       640: 100% 4/4 [00:30<00:00,  7.60s/it]\n",
            "               Class      Images     Targets           P           R      mAP@.5  mAP@.5:.95: 100% 1/1 [00:03<00:00,  3.60s/it]\n",
            "                 all          10         180           0           0        0.24      0.0503\n",
            "\n",
            "     Epoch   gpu_mem      GIoU       obj       cls     total   targets  img_size\n",
            "     34/49     4.52G     0.094    0.1127         0    0.2067       233       640: 100% 4/4 [00:30<00:00,  7.63s/it]\n",
            "               Class      Images     Targets           P           R      mAP@.5  mAP@.5:.95: 100% 1/1 [00:03<00:00,  3.68s/it]\n",
            "                 all          10         180           1     0.00556       0.259      0.0483\n",
            "\n",
            "     Epoch   gpu_mem      GIoU       obj       cls     total   targets  img_size\n",
            "     35/49     4.52G   0.09051    0.1124         0    0.2029       242       640: 100% 4/4 [00:29<00:00,  7.46s/it]\n",
            "               Class      Images     Targets           P           R      mAP@.5  mAP@.5:.95: 100% 1/1 [00:03<00:00,  3.58s/it]\n",
            "                 all          10         180       0.414      0.0222       0.224      0.0484\n",
            "\n",
            "     Epoch   gpu_mem      GIoU       obj       cls     total   targets  img_size\n",
            "     36/49     4.52G   0.09372    0.1225         0    0.2162       285       640: 100% 4/4 [00:29<00:00,  7.42s/it]\n",
            "               Class      Images     Targets           P           R      mAP@.5  mAP@.5:.95: 100% 1/1 [00:03<00:00,  3.67s/it]\n",
            "                 all          10         180       0.251       0.233       0.218      0.0435\n",
            "\n",
            "     Epoch   gpu_mem      GIoU       obj       cls     total   targets  img_size\n",
            "     37/49     4.52G   0.09337    0.1076         0     0.201       223       640: 100% 4/4 [00:28<00:00,  7.14s/it]\n",
            "               Class      Images     Targets           P           R      mAP@.5  mAP@.5:.95: 100% 1/1 [00:03<00:00,  3.51s/it]\n",
            "                 all          10         180       0.257       0.306       0.223      0.0434\n",
            "\n",
            "     Epoch   gpu_mem      GIoU       obj       cls     total   targets  img_size\n",
            "     38/49     4.52G   0.09159    0.1111         0    0.2027       210       640: 100% 4/4 [00:30<00:00,  7.60s/it]\n",
            "               Class      Images     Targets           P           R      mAP@.5  mAP@.5:.95: 100% 1/1 [00:03<00:00,  3.47s/it]\n",
            "                 all          10         180       0.193       0.394        0.21      0.0415\n",
            "\n",
            "     Epoch   gpu_mem      GIoU       obj       cls     total   targets  img_size\n",
            "     39/49     4.52G   0.09261    0.1107         0    0.2033       262       640: 100% 4/4 [00:29<00:00,  7.37s/it]\n",
            "               Class      Images     Targets           P           R      mAP@.5  mAP@.5:.95: 100% 1/1 [00:03<00:00,  3.47s/it]\n",
            "                 all          10         180       0.145       0.672       0.218      0.0428\n",
            "\n",
            "     Epoch   gpu_mem      GIoU       obj       cls     total   targets  img_size\n",
            "     40/49     4.52G    0.0907    0.1089         0    0.1996       237       640: 100% 4/4 [00:29<00:00,  7.37s/it]\n",
            "               Class      Images     Targets           P           R      mAP@.5  mAP@.5:.95: 100% 1/1 [00:03<00:00,  3.49s/it]\n",
            "                 all          10         180      0.0925       0.844       0.182      0.0335\n",
            "\n",
            "     Epoch   gpu_mem      GIoU       obj       cls     total   targets  img_size\n",
            "     41/49     4.52G   0.08874    0.1094         0    0.1981       220       640: 100% 4/4 [00:29<00:00,  7.47s/it]\n",
            "               Class      Images     Targets           P           R      mAP@.5  mAP@.5:.95: 100% 1/1 [00:03<00:00,  3.63s/it]\n",
            "                 all          10         180      0.0846       0.906       0.191      0.0344\n",
            "\n",
            "     Epoch   gpu_mem      GIoU       obj       cls     total   targets  img_size\n",
            "     42/49     4.52G   0.09352     0.114         0    0.2075       291       640: 100% 4/4 [00:29<00:00,  7.44s/it]\n",
            "               Class      Images     Targets           P           R      mAP@.5  mAP@.5:.95: 100% 1/1 [00:03<00:00,  3.56s/it]\n",
            "                 all          10         180      0.0767       0.911       0.206       0.034\n",
            "\n",
            "     Epoch   gpu_mem      GIoU       obj       cls     total   targets  img_size\n",
            "     43/49     4.52G   0.08929    0.1043         0    0.1936       194       640: 100% 4/4 [00:29<00:00,  7.40s/it]\n",
            "               Class      Images     Targets           P           R      mAP@.5  mAP@.5:.95: 100% 1/1 [00:03<00:00,  3.63s/it]\n",
            "                 all          10         180      0.0759       0.928       0.189      0.0341\n",
            "\n",
            "     Epoch   gpu_mem      GIoU       obj       cls     total   targets  img_size\n",
            "     44/49     4.52G   0.08646    0.1125         0     0.199       227       640: 100% 4/4 [00:29<00:00,  7.34s/it]\n",
            "               Class      Images     Targets           P           R      mAP@.5  mAP@.5:.95: 100% 1/1 [00:03<00:00,  3.58s/it]\n",
            "                 all          10         180      0.0736       0.942       0.196      0.0394\n",
            "\n",
            "     Epoch   gpu_mem      GIoU       obj       cls     total   targets  img_size\n",
            "     45/49     4.52G   0.08865    0.1076         0    0.1963       205       640: 100% 4/4 [00:29<00:00,  7.34s/it]\n",
            "               Class      Images     Targets           P           R      mAP@.5  mAP@.5:.95: 100% 1/1 [00:03<00:00,  3.52s/it]\n",
            "                 all          10         180      0.0737       0.956       0.224      0.0404\n",
            "\n",
            "     Epoch   gpu_mem      GIoU       obj       cls     total   targets  img_size\n",
            "     46/49     4.52G    0.0897    0.1112         0    0.2009       320       640: 100% 4/4 [00:29<00:00,  7.38s/it]\n",
            "               Class      Images     Targets           P           R      mAP@.5  mAP@.5:.95: 100% 1/1 [00:03<00:00,  3.71s/it]\n",
            "                 all          10         180      0.0738       0.978       0.185      0.0346\n",
            "\n",
            "     Epoch   gpu_mem      GIoU       obj       cls     total   targets  img_size\n",
            "     47/49     4.52G   0.08861     0.119         0    0.2076       287       640: 100% 4/4 [00:29<00:00,  7.36s/it]\n",
            "               Class      Images     Targets           P           R      mAP@.5  mAP@.5:.95: 100% 1/1 [00:03<00:00,  3.61s/it]\n",
            "                 all          10         180      0.0739       0.978       0.181       0.035\n",
            "\n",
            "     Epoch   gpu_mem      GIoU       obj       cls     total   targets  img_size\n",
            "     48/49     4.52G   0.08888    0.1105         0    0.1993       206       640: 100% 4/4 [00:30<00:00,  7.54s/it]\n",
            "               Class      Images     Targets           P           R      mAP@.5  mAP@.5:.95: 100% 1/1 [00:03<00:00,  3.65s/it]\n",
            "                 all          10         180      0.0754       0.961        0.18      0.0355\n",
            "\n",
            "     Epoch   gpu_mem      GIoU       obj       cls     total   targets  img_size\n",
            "     49/49     4.52G   0.09156    0.1054         0     0.197       318       640:  25% 1/4 [00:15<00:45, 15.06s/it]"
          ],
          "name": "stdout"
        }
      ]
    }
  ]
}