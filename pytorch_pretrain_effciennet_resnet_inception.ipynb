{
  "nbformat": 4,
  "nbformat_minor": 0,
  "metadata": {
    "colab": {
      "name": "py.ipynb",
      "provenance": [],
      "collapsed_sections": [],
      "toc_visible": true
    },
    "kernelspec": {
      "name": "python3",
      "display_name": "Python 3"
    },
    "accelerator": "GPU"
  },
  "cells": [
    {
      "cell_type": "code",
      "metadata": {
        "id": "jcZ0gx01SMB3",
        "colab_type": "code",
        "colab": {
          "base_uri": "https://localhost:8080/",
          "height": 34
        },
        "outputId": "62a60926-40fe-440f-9fb0-2e523bf0e4e7"
      },
      "source": [
        "cd /content/drive/My Drive/classifer"
      ],
      "execution_count": 7,
      "outputs": [
        {
          "output_type": "stream",
          "text": [
            "/content/drive/My Drive/classifer\n"
          ],
          "name": "stdout"
        }
      ]
    },
    {
      "cell_type": "code",
      "metadata": {
        "id": "xfTisLFcSg9a",
        "colab_type": "code",
        "colab": {}
      },
      "source": [
        "# !unzip ALL.zip"
      ],
      "execution_count": 8,
      "outputs": []
    },
    {
      "cell_type": "code",
      "metadata": {
        "id": "hIG1eiGgeu3a",
        "colab_type": "code",
        "colab": {
          "base_uri": "https://localhost:8080/",
          "height": 85
        },
        "outputId": "027b9b6d-1865-4861-b766-c11632d6b10d"
      },
      "source": [
        "!pip install efficientnet-pytorch==0.6.3"
      ],
      "execution_count": 9,
      "outputs": [
        {
          "output_type": "stream",
          "text": [
            "Requirement already satisfied: efficientnet-pytorch==0.6.3 in /usr/local/lib/python3.6/dist-packages (0.6.3)\n",
            "Requirement already satisfied: torch in /usr/local/lib/python3.6/dist-packages (from efficientnet-pytorch==0.6.3) (1.5.1+cu101)\n",
            "Requirement already satisfied: numpy in /usr/local/lib/python3.6/dist-packages (from torch->efficientnet-pytorch==0.6.3) (1.18.5)\n",
            "Requirement already satisfied: future in /usr/local/lib/python3.6/dist-packages (from torch->efficientnet-pytorch==0.6.3) (0.16.0)\n"
          ],
          "name": "stdout"
        }
      ]
    },
    {
      "cell_type": "markdown",
      "metadata": {
        "id": "jCd86h-KWl2w",
        "colab_type": "text"
      },
      "source": [
        "# train"
      ]
    },
    {
      "cell_type": "code",
      "metadata": {
        "id": "j_2OrMJgWllz",
        "colab_type": "code",
        "colab": {}
      },
      "source": [
        "import argparse\n",
        "import torch\n",
        "import torch\n",
        "import torch.nn as nn\n",
        "import torch.optim as optim\n",
        "import numpy as np\n",
        "import torchvision\n",
        "from torchvision import datasets, models, transforms\n",
        "import matplotlib.pyplot as plt\n",
        "import time\n",
        "import os\n",
        "import copy\n",
        "from torch.utils.tensorboard import SummaryWriter"
      ],
      "execution_count": 10,
      "outputs": []
    },
    {
      "cell_type": "code",
      "metadata": {
        "id": "QdDNbKwMb3OF",
        "colab_type": "code",
        "colab": {}
      },
      "source": [
        "def load_data(input_size = 299,batch_size = 8,data_dir=\"None\"):\n",
        "    if os.path.exists(data_dir):\n",
        "        print(\"Initializing Datasets and Dataloaders...\")\n",
        "    else:\n",
        "        print(\"Error loading your data....T_T.....\")\n",
        "        return None\n",
        "    data_transforms = {\n",
        "     'train': transforms.Compose([\n",
        "        transforms.Resize(input_size),\n",
        "        transforms.RandomResizedCrop(input_size),\n",
        "        transforms.RandomRotation(25),\n",
        "        transforms.RandomHorizontalFlip(p=0.5),\n",
        "        transforms.RandomVerticalFlip(p=0.5),\n",
        "        # transforms.RandomGrayscale(p=0.1),\n",
        "        # torchvision.transforms.RandomApply([transforms.Lambda(lambda x: x.convert(\"HSV\"))]),\n",
        "        transforms.ToTensor(),\n",
        "        transforms.Normalize([0.485, 0.456, 0.406], [0.229, 0.224, 0.225])\n",
        "        # transforms.RandomErasing()\n",
        "    ]),\n",
        "    'val': transforms.Compose([\n",
        "        transforms.Resize(input_size),\n",
        "        transforms.RandomResizedCrop(input_size),\n",
        "        transforms.ToTensor(),\n",
        "        transforms.Normalize([0.485, 0.456, 0.406], [0.229, 0.224, 0.225])\n",
        "    ]),\n",
        "    }\n",
        "    # Create training and validation datasets\n",
        "    image_datasets = {x: datasets.ImageFolder(os.path.join(data_dir, x), data_transforms[x]) for x in ['train', 'val']}\n",
        "    # Create training and validation dataloaders\n",
        "    dataloaders_dict = {x: torch.utils.data.DataLoader(image_datasets[x], batch_size=batch_size, shuffle=True, num_workers=8) for x in ['train', 'val']}\n",
        "\n",
        "    return dataloaders_dict\n"
      ],
      "execution_count": 11,
      "outputs": []
    },
    {
      "cell_type": "code",
      "metadata": {
        "id": "K4rX_cAZb5Gn",
        "colab_type": "code",
        "colab": {}
      },
      "source": [
        "def load_checkpoint(model, filename):\n",
        "    print(\"Loading check point ..........\")\n",
        "    # Note: Input model & optimizer should be pre-defined.  This routine only updates their states.\n",
        "    if os.path.isfile(filename):\n",
        "        checkpoint = torch.load(filename)\n",
        "        model.load_state_dict(checkpoint['model_state_dict'])\n",
        "    else:\n",
        "        print(\"=> no checkpoint found at '{}'\".format(filename))\n",
        "    return model"
      ],
      "execution_count": 12,
      "outputs": []
    },
    {
      "cell_type": "code",
      "metadata": {
        "id": "ibD9vh6Mb6YB",
        "colab_type": "code",
        "colab": {}
      },
      "source": [
        "def set_parameter_requires_grad(model):\n",
        "  for name, child in model.named_children():\n",
        "    if name in ['Mixed_7a', 'Mixed_7b','Mixed_7c']:\n",
        "      print(name + ' is unfrozen')\n",
        "      for param in child.parameters():\n",
        "        param.requires_grad = True\n",
        "    else:\n",
        "      print(name + ' is frozen')\n",
        "      for param in child.parameters():\n",
        "        param.requires_grad = False\n",
        "  return model"
      ],
      "execution_count": 13,
      "outputs": []
    },
    {
      "cell_type": "code",
      "metadata": {
        "id": "THQGwFTdT1Dj",
        "colab_type": "code",
        "colab": {}
      },
      "source": [
        "def train_model(model, dataloaders, criterion, optimizer, num_epochs=30, path_out_module=\"\",aux=0.5,is_inception=True):\n",
        "\n",
        "    device = torch.device(\"cuda:0\" if torch.cuda.is_available() else \"cpu\")\n",
        "    writer = SummaryWriter()\n",
        "\n",
        "    for epoch in range(num_epochs):\n",
        "        print('Epoch {}/{}'.format(epoch, num_epochs - 1))\n",
        "        print('-' * 10)\n",
        "\n",
        "        # Each epoch has a training and validation phase\n",
        "        for phase in ['train', 'val']:\n",
        "            if phase == 'train':\n",
        "                model.train()  # Set model to training mode\n",
        "            else:\n",
        "                model.eval()   # Set model to evaluate mode\n",
        "\n",
        "            running_loss = 0.0\n",
        "            running_corrects = 0\n",
        "\n",
        "            # Iterate over data.\n",
        "            for inputs, labels in dataloaders[phase]:\n",
        "                inputs = inputs.to(device)\n",
        "                labels = labels.to(device)\n",
        "\n",
        "                # zero the parameter gradients\n",
        "                optimizer.zero_grad()\n",
        "\n",
        "                # forward\n",
        "                # track history if only in train\n",
        "                with torch.set_grad_enabled(phase == 'train'):\n",
        "                    # Get model outputs and calculate loss\n",
        "                    # Special case for inception because in training it has an auxiliary output. In train\n",
        "                    #   mode we calculate the loss by summing the final output and the auxiliary output\n",
        "                    #   but in testing we only consider the final output.\n",
        "                    if is_inception and phase == 'train':\n",
        "                        # From https://discuss.pytorch.org/t/how-to-optimize-inception-model-with-auxiliary-classifiers/7958\n",
        "                        outputs, aux_outputs = model(inputs)\n",
        "                        loss1 = criterion(outputs, labels)\n",
        "                        loss2 = criterion(aux_outputs, labels)\n",
        "                        loss = loss1 + aux*loss2\n",
        "                    else:\n",
        "                        outputs = model(inputs)\n",
        "                        loss = criterion(outputs, labels)\n",
        "\n",
        "                    _, preds = torch.max(outputs, 1)\n",
        "\n",
        "                    # backward + optimize only if in training phase\n",
        "                    if phase == 'train':\n",
        "                        loss.backward()\n",
        "                        optimizer.step()\n",
        "\n",
        "                # statistics\n",
        "                running_loss += loss.item() * inputs.size(0)\n",
        "                running_corrects += torch.sum(preds == labels.data)\n",
        "                \n",
        "            epoch_loss = running_loss / len(dataloaders[phase].dataset)\n",
        "            epoch_acc = running_corrects.double() / len(dataloaders[phase].dataset)\n",
        "\n",
        "            print('{} Loss: {:.4f} Acc: {:.4f}'.format(phase, epoch_loss, epoch_acc))\n",
        "            \n",
        "            if phase == 'val':\n",
        "                writer.add_scalar(\"Loss/valid_loss\", epoch_loss, epoch)\n",
        "                writer.add_scalar(\"Acc/valid_acc\", epoch_acc, epoch)\n",
        "            else:\n",
        "                writer.add_scalar(\"Loss/train_loss\", epoch_loss, epoch)\n",
        "                writer.add_scalar(\"Acc/train_acc\", epoch_acc, epoch)\n",
        "                if epoch%20==0:\n",
        "                  torch.save({\n",
        "                      'model_state_dict': model.state_dict(),\n",
        "                      'optimizer_state_dict': optimizer.state_dict(),\n",
        "                  }, path_out_module+\"_epoch_\"+str(epoch)+\".pt\")\n",
        "\n",
        "        \n",
        "    writer.flush()\n",
        "    writer.close()"
      ],
      "execution_count": 14,
      "outputs": []
    },
    {
      "cell_type": "code",
      "metadata": {
        "id": "OVhE40H3klwE",
        "colab_type": "code",
        "colab": {}
      },
      "source": [
        "def initialize_model(model_name=\"inception\", num_classes=2, feature_extract = False,use_pretrained=True):\n",
        "    print(\"Init model ....\")\n",
        "    model_ft = None\n",
        "    if model_name == \"inception\":\n",
        "        model_ft = models.inception_v3(pretrained=use_pretrained)\n",
        "        set_parameter_requires_grad(model_ft)\n",
        "        # Handle the auxilary net\n",
        "        num_ftrs = model_ft.AuxLogits.fc.in_features\n",
        "        model_ft.AuxLogits.fc = nn.Linear(num_ftrs, num_classes)\n",
        "        # Handle the primary net\n",
        "        num_ftrs = model_ft.fc.in_features   \n",
        "        model_ft.fc = nn.Sequential(\n",
        "            nn.Dropout(0.5),\n",
        "            nn.Linear(num_ftrs, num_classes)\n",
        "        )   \n",
        "        input_size = 299\n",
        "    elif model_name == \"resnet\":\n",
        "        model_ft = models.resnet18(pretrained=use_pretrained)\n",
        "        set_parameter_requires_grad(model_ft, feature_extract)\n",
        "        num_ftrs = model_ft.fc.in_features\n",
        "        model_ft.fc = nn.Linear(num_ftrs, num_classes)\n",
        "        input_size = 224\n",
        "    elif model_name == \"efficientnet-b0\":\n",
        "        input_size = EfficientNet.get_image_size(model_name)\n",
        "        model_ft = EfficientNet.from_pretrained(model_name)\n",
        "\n",
        "    return model_ft,input_size"
      ],
      "execution_count": 19,
      "outputs": []
    },
    {
      "cell_type": "code",
      "metadata": {
        "id": "x7SGkuu7WsTh",
        "colab_type": "code",
        "colab": {}
      },
      "source": [
        "def main(config):\n",
        "    \n",
        "    print(\"PyTorch Version: \",torch.__version__)\n",
        "    print(\"Torchvision Version: \",torchvision.__version__)\n",
        "    device = torch.device(\"cuda:0\" if torch.cuda.is_available() else \"cpu\")\n",
        "    print(device)\n",
        "\n",
        "    # get pretrain model && freeze some layer\n",
        "    model_ft,input_size = initialize_model(config['model_name'], config['num_classes'], config['feature_extract'], use_pretrained=True)\n",
        "    # loading your dataset.\n",
        "    dataloaders_dict = load_data(input_size,config['batch_size'],config['path_data'])\n",
        "    optimizer_ft = optim.SGD(model_ft.parameters(), lr=1e-5, momentum=0.9,weight_decay=0.0005)\n",
        "    criterion = nn.CrossEntropyLoss()\n",
        "    # # \n",
        "    if config['path_continue_train_model'] is not None:\n",
        "        model_ft = load_checkpoint(model_ft, config['path_continue_train_model'])\n",
        "        model_ft.eval()\n",
        "    \n",
        "    model_ft = model_ft.to(device)\n",
        "    model_ft = train_model(model_ft, dataloaders_dict, criterion, optimizer_ft, config['epochs'],config['path_out_module'],config['aux'],True)\n",
        "    \n",
        "    return \n"
      ],
      "execution_count": 16,
      "outputs": []
    },
    {
      "cell_type": "code",
      "metadata": {
        "id": "ywo9CsyrW2ff",
        "colab_type": "code",
        "colab": {
          "base_uri": "https://localhost:8080/",
          "height": 34
        },
        "outputId": "34c5aafe-1a3b-4297-fbde-12342ed05751"
      },
      "source": [
        "print(torch.cuda.device_count())\n",
        "config = { \n",
        "        'path_continue_train_model':None,\n",
        "        'path_out_module':\"ALL_MODEL_EFF/\",\n",
        "        'model_name':'efficientnet-b0',\n",
        "        'num_classes':2,\n",
        "        'path_data' :\"./ALL/\",\n",
        "        'feature_extract':False,\n",
        "        'use_pretrained':True,\n",
        "        'batch_size':8,\n",
        "        'input_size':299,\n",
        "        'aux':0.5,\n",
        "        'epochs':201\n",
        "}"
      ],
      "execution_count": 17,
      "outputs": [
        {
          "output_type": "stream",
          "text": [
            "1\n"
          ],
          "name": "stdout"
        }
      ]
    },
    {
      "cell_type": "code",
      "metadata": {
        "id": "zcN5o9800UdI",
        "colab_type": "code",
        "colab": {
          "base_uri": "https://localhost:8080/",
          "height": 153
        },
        "outputId": "748af5f5-0544-4c29-ff34-2eda1d555f7f"
      },
      "source": [
        "main(config)"
      ],
      "execution_count": null,
      "outputs": [
        {
          "output_type": "stream",
          "text": [
            "PyTorch Version:  1.5.1+cu101\n",
            "Torchvision Version:  0.6.1+cu101\n",
            "cuda:0\n",
            "Init model ....\n",
            "Loaded pretrained weights for efficientnet-b0\n",
            "Initializing Datasets and Dataloaders...\n",
            "Epoch 0/200\n",
            "----------\n"
          ],
          "name": "stdout"
        }
      ]
    }
  ]
}